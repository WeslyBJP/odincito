{
  "metadata": {
    "kernelspec": {
      "name": "python",
      "display_name": "Python (Pyodide)",
      "language": "python"
    },
    "language_info": {
      "codemirror_mode": {
        "name": "python",
        "version": 3
      },
      "file_extension": ".py",
      "mimetype": "text/x-python",
      "name": "python",
      "nbconvert_exporter": "python",
      "pygments_lexer": "ipython3",
      "version": "3.8"
    }
  },
  "nbformat_minor": 4,
  "nbformat": 4,
  "cells": [
    {
      "cell_type": "markdown",
      "source": "# Data Science Tools and Ecosystem",
      "metadata": {}
    },
    {
      "cell_type": "markdown",
      "source": "En este cuaderno se resumen las herramientas y ecosistemas de la ciencia de datos.",
      "metadata": {}
    },
    {
      "cell_type": "markdown",
      "source": "Algunos de los lenguajes populares que usan los científicos de datos son:\n1. Python\n2. R\n3. SQL\n4. Julia\n",
      "metadata": {}
    },
    {
      "cell_type": "markdown",
      "source": "Algunas de las bibliotecas comúnmente usadas por los científicos de datos incluyen:\n1. Pandas\n2. NumPy\n3. Matplotlib\n4. Scikit-learn",
      "metadata": {}
    },
    {
      "cell_type": "markdown",
      "source": "| Herramientas de Ciencia de Datos |\n|----------------------------------|\n| Jupyter Notebook                 |\n| RStudio                          |\n| Apache Zeppelin                  |",
      "metadata": {}
    },
    {
      "cell_type": "markdown",
      "source": "### A continuación, algunos ejemplos de evaluación de expresiones aritméticas en Python.",
      "metadata": {}
    },
    {
      "cell_type": "code",
      "source": "# Esta es una expresión aritmética simple para multiplicar y luego sumar números enteros\n(3 * 4) + 5",
      "metadata": {
        "trusted": true
      },
      "outputs": [
        {
          "execution_count": 1,
          "output_type": "execute_result",
          "data": {
            "text/plain": "17"
          },
          "metadata": {}
        }
      ],
      "execution_count": 1
    },
    {
      "cell_type": "code",
      "source": "# Esto convertirá 200 minutos a horas dividiendo entre 60\n200 / 60",
      "metadata": {
        "trusted": true
      },
      "outputs": [
        {
          "execution_count": 2,
          "output_type": "execute_result",
          "data": {
            "text/plain": "3.3333333333333335"
          },
          "metadata": {}
        }
      ],
      "execution_count": 2
    },
    {
      "cell_type": "code",
      "source": "",
      "metadata": {
        "trusted": true
      },
      "outputs": [],
      "execution_count": null
    }
  ]
}